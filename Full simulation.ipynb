{
  "nbformat": 4,
  "nbformat_minor": 0,
  "metadata": {
    "colab": {
      "provenance": [],
      "mount_file_id": "1Owo3UIkklOicEy3xYOkxvreG39ExpBCj",
      "authorship_tag": "ABX9TyMICMyeCriK+R06Q8UppBKf",
      "include_colab_link": true
    },
    "kernelspec": {
      "name": "python3",
      "display_name": "Python 3"
    },
    "language_info": {
      "name": "python"
    }
  },
  "cells": [
    {
      "cell_type": "markdown",
      "metadata": {
        "id": "view-in-github",
        "colab_type": "text"
      },
      "source": [
        "<a href=\"https://colab.research.google.com/github/joel-winterton/Contagion/blob/main/Full%20simulation.ipynb\" target=\"_parent\"><img src=\"https://colab.research.google.com/assets/colab-badge.svg\" alt=\"Open In Colab\"/></a>"
      ]
    },
    {
      "cell_type": "code",
      "source": [
        "import pandas as pd\n",
        "import numpy as np"
      ],
      "metadata": {
        "id": "rgELbPsL442J"
      },
      "execution_count": 147,
      "outputs": []
    },
    {
      "cell_type": "code",
      "source": [
        "processed_data_path = \"/content/drive/MyDrive/BBCPandemic/Processed\""
      ],
      "metadata": {
        "id": "6gX12zEcHRbk"
      },
      "execution_count": 148,
      "outputs": []
    },
    {
      "cell_type": "markdown",
      "source": [
        "## Within patch transition function"
      ],
      "metadata": {
        "id": "Wb_-TqQ19m73"
      }
    },
    {
      "cell_type": "code",
      "source": [
        "def make_transition_rate_fn(infectious_profile, reproductive_number, contact_matrix, group_sizes):\n",
        "  \"\"\"\n",
        "  Precalculates parameters and returns function to calculate transition rates.\n",
        "  \"\"\"\n",
        "  # Calculate A from contact matrix\n",
        "  # multiply jth column by jth population and divide ith row by ith population using diagonal matrices\n",
        "  A_hat = np.matmul(np.diag(1/group_sizes),np.matmul(contact_matrix , np.diag(group_sizes)))\n",
        "  # Divide through by maximum eigenvalue\n",
        "  A = A_hat/np.linalg.eigh(A_hat)[0][-1]\n",
        "  tau_max = len(infectious_profile) - 1\n",
        "  number_of_groups = len(group_sizes)\n",
        "  infectious_profile_matrix = np.broadcast_to(infectious_profile[1:]/infectious_profile.sum(), (number_of_groups, len(infectious_profile)-1))\n",
        "\n",
        "  def transition_rate_fn(t, state):\n",
        "    \"\"\"\n",
        "    Calculates the transition rate for each group at time t in days given the state before t.\n",
        "    Returns array where ith element is ith force of infection.\n",
        "    \"\"\"\n",
        "    index = t + 5\n",
        "    S,I = state\n",
        "    infections = np.array(I[:,index-tau_max:index])\n",
        "    transition_values = infectious_profile_matrix*np.matmul(A, infections)\n",
        "    return reproductive_number*transition_values.sum(axis=1)\n",
        "\n",
        "  return transition_rate_fn"
      ],
      "metadata": {
        "id": "nq4RH4JX9tcN"
      },
      "execution_count": 149,
      "outputs": []
    },
    {
      "cell_type": "markdown",
      "source": [
        "# Between patch accounting"
      ],
      "metadata": {
        "id": "35fSqp8b-Wmh"
      }
    },
    {
      "cell_type": "code",
      "execution_count": 150,
      "metadata": {
        "id": "Xs9qiwtK4uLu"
      },
      "outputs": [],
      "source": [
        "class Infections:\n",
        "  def __init__(self, t_max: int, patch_ages, age_contact_matrix,distance_matrix, rural_urban, rural_proportions, urban_proportions, beta_profile, R_nought, epsilon):\n",
        "    \"\"\"\n",
        "    t_max: Maximum number of days to run simulation for.\n",
        "    patch_ages: Number of people in each age group for each patch, ndarray(patch, age_group).\n",
        "    age_contact_matrix: Average contact matrix between age groups (called B for BBC in Contagion paper), ndarray(age_group, age_group).\n",
        "    distance_matrix: Matrix containing distance (nearest km) between each patch, ndarray(patch, patch).\n",
        "    rural_urban: Rural/urban classification for each patch, ndarray(patch).\n",
        "    rural_proportions: Array containing proportion of time someone in rural patch spends d km from home, nparray(distance).\n",
        "    urban_proportions: Same as rural_proprotions but for urban patches.\n",
        "    beta_profile: Beta value for each day of infection, starting at 0, ndarray(length_of_infection).\n",
        "    R_nought: Basic reproductive number, float.\n",
        "    epsilon: Normalising constant for force of infection, float.\n",
        "    \"\"\"\n",
        "    self.patch_ages = patch_ages\n",
        "    self.beta_profile = beta_profile/beta_profile.sum()\n",
        "    self.R_nought = R_nought\n",
        "    self.t_max = t_max\n",
        "    self.age_contact_matrix = age_contact_matrix\n",
        "    self.urban_proportions = urban_proportions\n",
        "    self.rural_proportions = rural_proportions\n",
        "    self.rural_urban= rural_urban\n",
        "    self.distance_matrix = distance_matrix\n",
        "    self.epsilon = epsilon\n",
        "    # Derived properties\n",
        "    self.number_of_patches = patch_ages.shape[0]\n",
        "    self.number_of_age_groups = patch_ages.shape[1]\n",
        "    self.incidence = np.zeros(shape=(self.number_of_patches, self.t_max+6, self.number_of_age_groups))\n",
        "    self.susceptibles = np.zeros(shape=(self.number_of_patches, self.t_max+6, self.number_of_age_groups))\n",
        "    self.onset_times = np.full(shape=(self.number_of_patches), fill_value=self.t_max+2, dtype=int)\n",
        "\n",
        "  def simulate_patch(self, j:int, tau:int)->None:\n",
        "    \"\"\"\n",
        "    Run deterministic model for patch j,\n",
        "    and propogate simulation into susceptibles and incidence object,\n",
        "    starting at index tau.\n",
        "    \"\"\"\n",
        "    number_of_days = self.t_max - tau\n",
        "    self.onset_times[j] = tau\n",
        "    # first five entries are before t=0\n",
        "    I = np.array([[0.002, 0.002, 0.002, 0.002, 0.002, 0.00]+[-1.]*number_of_days]*self.number_of_age_groups)\n",
        "    S = np.array([[0., 0., 0., 0., 0., 0.99]+[-1.]*number_of_days]*self.number_of_age_groups)\n",
        "\n",
        "    trans_fn = make_transition_rate_fn(self.beta_profile, self.R_nought, self.age_contact_matrix, self.patch_ages[j])\n",
        "    for t in range(number_of_days):\n",
        "      index = t+5\n",
        "      forces_of_infection = trans_fn(t, (S,I))\n",
        "      probability_of_infection = 1 - np.exp(-forces_of_infection)\n",
        "      S[:,index+1] = S[:,index]*(1-probability_of_infection)\n",
        "      I[:,index+1] = S[:,index]*probability_of_infection\n",
        "    # Transpose\n",
        "    self.incidence[j,tau:,:] = I.T\n",
        "    self.susceptibles[j,tau:,:] = S.T\n",
        "\n",
        "  def get_active_patches(self, t):\n",
        "    \"\"\"\n",
        "    Returns indices of patches that have been infected by time t.\n",
        "    \"\"\"\n",
        "    return np.argwhere(self.onset_times<=t)\n",
        "\n",
        "  def get_inactive_patches(self, t):\n",
        "    \"\"\"\n",
        "    Returns indices of patches have not been infected up to time t.\n",
        "    \"\"\"\n",
        "    return np.argwhere(self.onset_times>t)\n",
        "\n",
        "  def patch_effective_prevalence(self, j:int,t:int)->float:\n",
        "    \"\"\"\n",
        "    Returns phi_j(t), the relative force of infection patch k exerts at t.\n",
        "    \"\"\"\n",
        "    tau_indices = np.arange(1, len(self.beta_profile))\n",
        "    incidence_slices = self.incidence[j, t - tau_indices[:, np.newaxis], :]\n",
        "    weighted_incidence = (incidence_slices * self.patch_ages[j, :]).sum(axis=-1)\n",
        "    return np.dot(self.beta_profile[1:], weighted_incidence)\n",
        "\n",
        "  def force_of_infection(self, j:int, t:int)->float:\n",
        "    \"\"\"\n",
        "    Returns lambda_k(t), the force of infection on patch k at t.\n",
        "    \"\"\"\n",
        "    patch_population_size = self.patch_ages[j,:].sum()\n",
        "    active_patches = self.get_active_patches(t)\n",
        "    patch_times = t - self.onset_times[active_patches]\n",
        "\n",
        "    vectorised_patch_prevalence = np.vectorize(lambda patch,time: self.patch_effective_prevalence(patch, time))\n",
        "    vectorised_proportions = np.vectorize(lambda l: self.distance_proportion(j, l))\n",
        "\n",
        "    patch_forces = vectorised_patch_prevalence(active_patches, patch_times)\n",
        "    patch_proportions = vectorised_proportions(active_patches)\n",
        "    force_of_infection = self.epsilon*patch_population_size* (patch_forces*patch_proportions).sum()\n",
        "    return force_of_infection\n",
        "\n",
        "  def distance_proportion(self, j:int, l: int)->float:\n",
        "    \"\"\"\n",
        "    Returns F_ru(j)(d_{jl}), the proportion of visits from rural/urban (depending on ru(j)) that are d_jl km from the origin.\n",
        "    \"\"\"\n",
        "    d = self.distance_matrix[j,l]\n",
        "    if self.rural_urban[j]:\n",
        "      return self.rural_proportions[d]\n",
        "    else:\n",
        "      return self.urban_proportions[d]\n",
        "\n",
        "  def simulate_between_patch(self, seed_location, seed_time):\n",
        "    \"\"\"\n",
        "    This brings everything together by simulating between patch.\n",
        "    \"\"\"\n",
        "    # Seed\n",
        "    self.simulate_patch(j=seed_location, tau=seed_time)\n",
        "    # Move forward in time\n",
        "    for t in range(self.t_max - seed_time):\n",
        "      # Calculate infection forces\n",
        "      patches = self.get_inactive_patches(t)\n",
        "      vectorised_force_of_infection = np.vectorize(lambda j: self.force_of_infection(j, t))\n",
        "      forces_of_infection = vectorised_force_of_infection(patches).ravel()\n",
        "      # Probability to seed in that location\n",
        "      probability_of_infection = 1 - np.exp(-forces_of_infection)\n",
        "      # Seed patches with probability from above\n",
        "      unif_samples = np.random.default_rng().uniform(size=len(patches))\n",
        "      seed_patches = unif_samples<probability_of_infection\n",
        "      indexes_to_seed = patches[seed_patches]\n",
        "      for index in indexes_to_seed:\n",
        "        self.simulate_patch(j=index[0], tau=t)\n",
        "\n",
        "\n"
      ]
    },
    {
      "cell_type": "markdown",
      "source": [
        "# Bring in the data\n"
      ],
      "metadata": {
        "id": "2iHttyfkEoWZ"
      }
    },
    {
      "cell_type": "code",
      "source": [
        "# Maximum time\n",
        "t_max = 250\n",
        "\n",
        "# Patch population by ages (and patch id to LDA code)\n",
        "patch_ages = pd.read_csv(processed_data_path+\"/lad_population_by_age.csv\", header=None, skiprows=1)\n",
        "patch_id_to_lad = patch_ages[0].values\n",
        "patch_ages.drop(columns=0, inplace=True)\n",
        "patch_ages = patch_ages.values\n",
        "\n",
        "# Age contact matrix\n",
        "age_contact_matrix = pd.read_csv(processed_data_path+\"/contact_polymod.csv\", header=None, skiprows=1)\n",
        "age_contact_matrix.drop(columns=0, inplace=True)\n",
        "age_contact_matrix = age_contact_matrix.values\n",
        "\n",
        "# Patch distances\n",
        "distance_matrix = pd.read_csv(processed_data_path+\"/centroid_distances.csv\", header=None, skiprows=1)\n",
        "distance_matrix.drop(columns=0, inplace=True)\n",
        "distance_matrix = distance_matrix.values\n",
        "\n",
        "# Rural/Urban classification\n",
        "rural_urban = pd.read_csv(processed_data_path+\"/rural_data.csv\")\n",
        "rural_urban = rural_urban['rural'].values\n",
        "\n",
        "# Flux proportions\n",
        "urban_proportions = pd.read_csv(processed_data_path+\"/urban_proportions.csv\")\n",
        "urban_proportions.set_index('Unnamed: 0', inplace=True)\n",
        "urban_proportions = np.array([urban_proportions.loc[i,'count'] if i in urban_proportions.index else 0 for i in range(distance_matrix.max()+1)])\n",
        "\n",
        "rural_proportions = pd.read_csv(processed_data_path+\"/rural_proportions.csv\")\n",
        "rural_proportions.set_index('Unnamed: 0', inplace=True)\n",
        "rural_proportions = np.array([rural_proportions.loc[i,'count'] if i in rural_proportions.index else 0 for i in range(distance_matrix.max()+1)])\n",
        "\n",
        "\n",
        "# Infectivity parameters\n",
        "beta_profile = np.array([0., 0., 1.6, 0.8, 0.2, 0.2])\n",
        "R_nought = 1.8\n",
        "epsilon = 10"
      ],
      "metadata": {
        "id": "87uS4GA99E81"
      },
      "execution_count": 151,
      "outputs": []
    },
    {
      "cell_type": "code",
      "source": [
        "patch_ages.shape"
      ],
      "metadata": {
        "colab": {
          "base_uri": "https://localhost:8080/"
        },
        "id": "-ABzpxVEKLtM",
        "outputId": "5aa07af1-1565-4882-ab75-bbf1c323cc76"
      },
      "execution_count": 152,
      "outputs": [
        {
          "output_type": "execute_result",
          "data": {
            "text/plain": [
              "(326, 13)"
            ]
          },
          "metadata": {},
          "execution_count": 152
        }
      ]
    },
    {
      "cell_type": "markdown",
      "source": [
        "# Whack it all together"
      ],
      "metadata": {
        "id": "S7bsqNqFJSbY"
      }
    },
    {
      "cell_type": "code",
      "source": [
        "infections = Infections(t_max=t_max,\n",
        "                        patch_ages=patch_ages,\n",
        "                        age_contact_matrix=age_contact_matrix,\n",
        "                        distance_matrix = distance_matrix,\n",
        "                        rural_urban = rural_urban,\n",
        "                        rural_proportions=rural_proportions,\n",
        "                        urban_proportions=urban_proportions,\n",
        "                        beta_profile=beta_profile,\n",
        "                        R_nought=R_nought,\n",
        "                        epsilon=epsilon)\n",
        "\n",
        "infections.simulate_between_patch(seed_location=0, seed_time=0)"
      ],
      "metadata": {
        "id": "P5bAR5iLI6mS"
      },
      "execution_count": 153,
      "outputs": []
    },
    {
      "cell_type": "code",
      "source": [
        "print(infections.onset_times)"
      ],
      "metadata": {
        "colab": {
          "base_uri": "https://localhost:8080/"
        },
        "id": "AzhvtGycMMLZ",
        "outputId": "f79e5a8c-8d51-4d93-822d-d1c405175679"
      },
      "execution_count": 154,
      "outputs": [
        {
          "output_type": "stream",
          "name": "stdout",
          "text": [
            "[  0   2   2   2   2   6   6   6   6   6   6   6   6   2   6   7   7   6\n",
            "  16  14   6  30  30  30  22  70  70  38  38  22  14  16  17  18  18  18\n",
            "  18  18  18  18  18  14  18  18  34  35   2   2   6   6   7 126 252  22\n",
            "  14  16  16  18  18  18  16  14  14  14  16   6   6   6   6   2   6   6\n",
            "   6   6   6   6   6   6   7  62  62  62  62  70  65  70  70  34  34  34\n",
            "  35  38  38  18  19  18  18  18  18  18  18  18  18  18  18  18  17  18\n",
            "  18  16  16  16  16  16  16  16  18  18  19  18  19  18  18  34  18  19\n",
            "  18  18  16  16  18  16  18  16  18  18  18  18  18  18  19  18  18  18\n",
            "  18  18  19  18  18   6   6   6   6   6   6   6   6   6   6   6   6  14\n",
            "   7  14  14   7   7   7  14   6   6   6   7  14   6  14  16  30  14  14\n",
            "  16  16  14  14  14  14  14  14  14   2   2   2   2   2   2   2   6   6\n",
            "   6   6   6   6   6  16  16  16  16  16  34  34  34  34  46   7   7   7\n",
            "   6   7  14   6   8  18  16  19  16  16  30  30  18  18  18  18  18  18\n",
            "  18  18  18  18  18   7   7  14  10  14  18  18  18  18  18  18  18  14\n",
            "  14  14  14  14  14   6   6   6   6   6   6   6   6   6   6   6   6   6\n",
            "   6   6   6   6   6   6   2   2   2   2   2  14  14   8  14  14   7   7\n",
            "   2   6   6   2   6  18  18  18  17  17  18  18  18  17  18  18  18  17\n",
            "  18  17  17  18  18  18  18  18  17  18  17  18  18  18  18  18  18  18\n",
            "  18  18]\n"
          ]
        }
      ]
    }
  ]
}